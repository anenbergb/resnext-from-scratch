{
 "cells": [
  {
   "cell_type": "code",
   "execution_count": 1,
   "id": "0017ae9a",
   "metadata": {},
   "outputs": [],
   "source": [
    "import torch\n",
    "import evaluate\n",
    "from resnext.utils import CombinedEvaluations\n",
    "from resnext.accuracy_top_k import AccuracyTopK\n",
    "from sklearn.metrics import top_k_accuracy_score\n",
    "import datasets\n",
    "import numpy as np"
   ]
  },
  {
   "cell_type": "code",
   "execution_count": 2,
   "id": "737327df",
   "metadata": {},
   "outputs": [],
   "source": [
    "metrics = CombinedEvaluations([\"accuracy\", \"f1\", \"precision\", \"recall\"])"
   ]
  },
  {
   "cell_type": "code",
   "execution_count": 18,
   "id": "2235211d",
   "metadata": {},
   "outputs": [],
   "source": [
    "probs = torch.softmax(torch.randn((100,10)), dim=1)\n",
    "preds = torch.argmax(probs, dim=1)\n",
    "labels = torch.randint(0, 10, (100,))"
   ]
  },
  {
   "cell_type": "code",
   "execution_count": 25,
   "id": "51bfef82",
   "metadata": {},
   "outputs": [],
   "source": [
    "metrics.add_batch(predictions=preds, references=labels)"
   ]
  },
  {
   "cell_type": "code",
   "execution_count": 26,
   "id": "86f68455",
   "metadata": {},
   "outputs": [],
   "source": [
    "out = metrics.compute(\n",
    "                f1 = {\"average\": \"macro\"},\n",
    "                precision = {\"average\": \"macro\", \"zero_division\": 0},\n",
    "                recall = {\"average\": \"macro\", \"zero_division\": 0}\n",
    "               )\n",
    "out[\"top_1_accuracy\"] = out.pop(\"accuracy\")"
   ]
  },
  {
   "cell_type": "code",
   "execution_count": 27,
   "id": "6676f829",
   "metadata": {},
   "outputs": [
    {
     "data": {
      "text/plain": [
       "{'f1': 0.10897126214746353,\n",
       " 'precision': 0.10385586635586637,\n",
       " 'recall': 0.12280885780885782,\n",
       " 'top_1_accuracy': 0.12}"
      ]
     },
     "execution_count": 27,
     "metadata": {},
     "output_type": "execute_result"
    }
   ],
   "source": [
    "out"
   ]
  },
  {
   "cell_type": "code",
   "execution_count": 28,
   "id": "168ff010",
   "metadata": {},
   "outputs": [
    {
     "data": {
      "text/plain": [
       "0.12"
      ]
     },
     "execution_count": 28,
     "metadata": {},
     "output_type": "execute_result"
    }
   ],
   "source": [
    "top_k_accuracy_score(\n",
    "    labels.numpy(),\n",
    "    probs.numpy(),\n",
    "    k=1\n",
    ")"
   ]
  },
  {
   "cell_type": "code",
   "execution_count": 29,
   "id": "71028ded",
   "metadata": {},
   "outputs": [
    {
     "data": {
      "text/plain": [
       "0.53"
      ]
     },
     "execution_count": 29,
     "metadata": {},
     "output_type": "execute_result"
    }
   ],
   "source": [
    "top_k_accuracy_score(\n",
    "    labels.numpy(),\n",
    "    probs.numpy(),\n",
    "    k=5\n",
    ")"
   ]
  },
  {
   "cell_type": "code",
   "execution_count": 8,
   "id": "5df5a317",
   "metadata": {},
   "outputs": [],
   "source": [
    "accuracytopk = AccuracyTopK()"
   ]
  },
  {
   "cell_type": "code",
   "execution_count": 9,
   "id": "0f2bf13a",
   "metadata": {},
   "outputs": [
    {
     "data": {
      "text/plain": [
       "{'top_k_accuracy': 0.07}"
      ]
     },
     "execution_count": 9,
     "metadata": {},
     "output_type": "execute_result"
    }
   ],
   "source": [
    "accuracytopk.compute(predictions=probs, references=labels, k=1)"
   ]
  },
  {
   "cell_type": "code",
   "execution_count": 10,
   "id": "1d7e7089",
   "metadata": {
    "scrolled": true
   },
   "outputs": [
    {
     "data": {
      "text/plain": [
       "{'top_k_accuracy': 0.53}"
      ]
     },
     "execution_count": 10,
     "metadata": {},
     "output_type": "execute_result"
    }
   ],
   "source": [
    "accuracytopk.compute(predictions=probs, references=labels, k=5)"
   ]
  },
  {
   "cell_type": "code",
   "execution_count": 17,
   "id": "6d97a2c6",
   "metadata": {
    "scrolled": true
   },
   "outputs": [
    {
     "data": {
      "text/plain": [
       "{'top_k_accuracy': 0.8333333333333334}"
      ]
     },
     "execution_count": 17,
     "metadata": {},
     "output_type": "execute_result"
    }
   ],
   "source": [
    "accuracytopk.compute(\n",
    "    references=[0, 1, 1, 0, 1, 1],\n",
    "    predictions=[[0.8, 0.1, 0.1], [0.1, 0.9, 0.0], [0.4, 0.0, 0.6], [0.7, 0.3, 0.0], [0.2, 0.8, 0.0], [0.5, 0.5, 0.0]],\n",
    "    k=2,\n",
    "    labels=np.arange(3)\n",
    ")"
   ]
  }
 ],
 "metadata": {
  "kernelspec": {
   "display_name": "Python [conda env:pytorch-from-scratch]",
   "language": "python",
   "name": "conda-env-pytorch-from-scratch-py"
  },
  "language_info": {
   "codemirror_mode": {
    "name": "ipython",
    "version": 3
   },
   "file_extension": ".py",
   "mimetype": "text/x-python",
   "name": "python",
   "nbconvert_exporter": "python",
   "pygments_lexer": "ipython3",
   "version": "3.12.8"
  }
 },
 "nbformat": 4,
 "nbformat_minor": 5
}
