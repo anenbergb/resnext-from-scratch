{
 "cells": [
  {
   "cell_type": "code",
   "execution_count": 1,
   "id": "2d8584e9",
   "metadata": {},
   "outputs": [],
   "source": [
    "from PIL import Image\n",
    "import torch\n",
    "from datasets import load_dataset, DatasetInfo\n",
    "import numpy as np\n",
    "from collections import Counter, defaultdict\n",
    "import random\n",
    "\n",
    "from resnext import ResNeXt\n",
    "from resnext.data import ImageNetDataset, get_val_transforms, get_train_transforms, get_collate_function, Collate\n",
    "from resnext.utils import create_image_grid"
   ]
  },
  {
   "cell_type": "code",
   "execution_count": 2,
   "id": "009138d9",
   "metadata": {},
   "outputs": [
    {
     "data": {
      "text/html": [
       "<style>.container { width:100% !important; }</style>"
      ],
      "text/plain": [
       "<IPython.core.display.HTML object>"
      ]
     },
     "metadata": {},
     "output_type": "display_data"
    }
   ],
   "source": [
    "import matplotlib.pyplot as plt\n",
    "%matplotlib inline\n",
    "from IPython.display import display, HTML\n",
    "display(HTML(\"<style>.container { width:100% !important; }</style>\"))"
   ]
  },
  {
   "cell_type": "code",
   "execution_count": 4,
   "id": "ea282ac2",
   "metadata": {},
   "outputs": [],
   "source": [
    "batch_size = 128\n",
    "mixup_alpha=0.2\n",
    "cutmix_alpha=1.0\n",
    "num_workers = 0"
   ]
  },
  {
   "cell_type": "code",
   "execution_count": 5,
   "id": "91dd1a9f",
   "metadata": {},
   "outputs": [
    {
     "data": {
      "application/vnd.jupyter.widget-view+json": {
       "model_id": "63762e73987d45468b807a0c7aa2968d",
       "version_major": 2,
       "version_minor": 0
      },
      "text/plain": [
       "Loading dataset shards:   0%|          | 0/257 [00:00<?, ?it/s]"
      ]
     },
     "metadata": {},
     "output_type": "display_data"
    }
   ],
   "source": [
    "\n",
    "val_dataset = ImageNetDataset(split=\"validation\", transform = get_val_transforms())\n",
    "train_dataset = ImageNetDataset(split=\"train\", transform = get_train_transforms())"
   ]
  },
  {
   "cell_type": "code",
   "execution_count": 6,
   "id": "d6b66b92",
   "metadata": {
    "scrolled": true
   },
   "outputs": [],
   "source": [
    "train_dataloader = torch.utils.data.DataLoader(\n",
    "    train_dataset,\n",
    "    batch_size=batch_size,\n",
    "    shuffle = True,\n",
    "    pin_memory=True,\n",
    "    drop_last=True,\n",
    "    num_workers=num_workers,\n",
    "    collate_fn=get_collate_function(num_classes=train_dataset.num_classes, mixup_alpha=mixup_alpha, cutmix_alpha=cutmix_alpha),\n",
    ")\n",
    "val_dataloader = torch.utils.data.DataLoader(\n",
    "    val_dataset,\n",
    "    batch_size=batch_size,\n",
    "    shuffle=False,\n",
    "    pin_memory=True,\n",
    "    drop_last=False,\n",
    "    num_workers=num_workers,\n",
    "    collate_fn=Collate(),\n",
    ")"
   ]
  },
  {
   "cell_type": "code",
   "execution_count": 7,
   "id": "aab49495",
   "metadata": {},
   "outputs": [],
   "source": [
    "train_batch = next(iter(train_dataloader))"
   ]
  },
  {
   "cell_type": "code",
   "execution_count": 8,
   "id": "38c0ee0e",
   "metadata": {},
   "outputs": [],
   "source": [
    "val_batch = next(iter(val_dataloader))"
   ]
  },
  {
   "cell_type": "code",
   "execution_count": 9,
   "id": "9300ebc8",
   "metadata": {
    "scrolled": false
   },
   "outputs": [],
   "source": [
    "images = val_batch[\"image\"]\n",
    "pred_labels = val_batch[\"class_name\"][::-1]\n",
    "gt_labels = val_batch[\"class_name\"]\n",
    "image_array = create_image_grid(images, pred_labels, gt_labels, max_images=50)"
   ]
  },
  {
   "cell_type": "code",
   "execution_count": 16,
   "id": "5725d516",
   "metadata": {
    "scrolled": false
   },
   "outputs": [],
   "source": [
    "image = Image.fromarray(image_array)"
   ]
  }
 ],
 "metadata": {
  "kernelspec": {
   "display_name": "Python [conda env:pytorch-from-scratch]",
   "language": "python",
   "name": "conda-env-pytorch-from-scratch-py"
  },
  "language_info": {
   "codemirror_mode": {
    "name": "ipython",
    "version": 3
   },
   "file_extension": ".py",
   "mimetype": "text/x-python",
   "name": "python",
   "nbconvert_exporter": "python",
   "pygments_lexer": "ipython3",
   "version": "3.12.8"
  }
 },
 "nbformat": 4,
 "nbformat_minor": 5
}
